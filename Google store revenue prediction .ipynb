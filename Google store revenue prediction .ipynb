{
 "cells": [
  {
   "cell_type": "code",
   "execution_count": 1,
   "metadata": {},
   "outputs": [],
   "source": [
    "import pandas as pd\n",
    "import numpy as np\n",
    "import matplotlib.pyplot as plt\n",
    "import seaborn as sns\n",
    "import json\n",
    "import gc\n",
    "import sys\n",
    "import math\n",
    "\n",
    "from pandas.io.json import json_normalize\n",
    "from datetime import datetime\n",
    "from sklearn import preprocessing"
   ]
  },
  {
   "cell_type": "code",
   "execution_count": 4,
   "metadata": {},
   "outputs": [],
   "source": [
    "def load_df(csv_path, nrows=None):\n",
    "    JSON_COLUMNS = ['device', 'geoNetwork', 'totals', 'trafficSource']\n",
    "    \n",
    "    df = pd.read_csv(csv_path, \n",
    "                     converters={column: json.loads for column in JSON_COLUMNS}, \n",
    "                     dtype={'fullVisitorId': 'str'}, # Important!!\n",
    "                     nrows=nrows)\n",
    "    \n",
    "    for column in JSON_COLUMNS:\n",
    "        column_as_df = json_normalize(df[column])\n",
    "        column_as_df.columns = [f\"{column}.{subcolumn}\" for subcolumn in column_as_df.columns]\n",
    "        df = df.drop(column, axis=1).merge(column_as_df, right_index=True, left_index=True)\n",
    "    return df"
   ]
  },
  {
   "cell_type": "code",
   "execution_count": 5,
   "metadata": {},
   "outputs": [
    {
     "name": "stdout",
     "output_type": "stream",
     "text": [
      "train date: 20160801 to 20170801\n",
      "test date: 20170802 to 20180430\n"
     ]
    }
   ],
   "source": [
    "train = load_df('train.csv')\n",
    "test = load_df('test.csv')\n",
    "\n",
    "print('train date:', min(train['date']), 'to', max(train['date']))\n",
    "print('test date:', min(test['date']), 'to', max(test['date']))"
   ]
  },
  {
   "cell_type": "code",
   "execution_count": 6,
   "metadata": {},
   "outputs": [
    {
     "name": "stdout",
     "output_type": "stream",
     "text": [
      "totals.transactionRevenue\n",
      "trafficSource.campaignCode\n"
     ]
    }
   ],
   "source": [
    "for c in train.columns.values:\n",
    "    if c not in test.columns.values: print(c)"
   ]
  },
  {
   "cell_type": "code",
   "execution_count": 7,
   "metadata": {},
   "outputs": [
    {
     "name": "stdout",
     "output_type": "stream",
     "text": [
      "count    903653.000000\n",
      "mean          0.227118\n",
      "std           2.003710\n",
      "min           0.000000\n",
      "25%           0.000000\n",
      "50%           0.000000\n",
      "75%           0.000000\n",
      "max          23.864375\n",
      "Name: totals.transactionRevenue, dtype: float64\n"
     ]
    }
   ],
   "source": [
    "train['totals.transactionRevenue'].fillna(0, inplace=True)\n",
    "train['totals.transactionRevenue'] = np.log1p(train['totals.transactionRevenue'].astype(float))\n",
    "print(train['totals.transactionRevenue'].describe())"
   ]
  },
  {
   "cell_type": "code",
   "execution_count": 30,
   "metadata": {},
   "outputs": [],
   "source": [
    "all_data = train.append(test, sort=False).reset_index(drop=True)"
   ]
  },
  {
   "cell_type": "code",
   "execution_count": 31,
   "metadata": {},
   "outputs": [
    {
     "name": "stdout",
     "output_type": "stream",
     "text": [
      "totals.pageviews                                   100\n",
      "totals.newVisits                                200593\n",
      "totals.bounces                                  453023\n",
      "trafficSource.keyword                           502929\n",
      "trafficSource.referralPath                      572712\n",
      "trafficSource.isTrueDirect                      629648\n",
      "trafficSource.adwordsClickInfo.gclId            882092\n",
      "trafficSource.adwordsClickInfo.adNetworkType    882193\n",
      "trafficSource.adwordsClickInfo.isVideoAd        882193\n",
      "trafficSource.adwordsClickInfo.page             882193\n",
      "trafficSource.adwordsClickInfo.slot             882193\n",
      "trafficSource.adContent                         892707\n",
      "trafficSource.campaignCode                      903652\n",
      "dtype: int64\n"
     ]
    }
   ],
   "source": [
    "null_cnt = train.isnull().sum().sort_values()\n",
    "print(null_cnt[null_cnt > 0])"
   ]
  },
  {
   "cell_type": "code",
   "execution_count": 32,
   "metadata": {},
   "outputs": [],
   "source": [
    "all_data['totals.pageviews'].fillna(1, inplace=True)\n",
    "all_data['totals.newVisits'].fillna(0, inplace=True)\n",
    "all_data['totals.bounces'].fillna(0, inplace=True)\n",
    "all_data['totals.pageviews'] = all_data['totals.pageviews'].astype(int)\n",
    "all_data['totals.newVisits'] = all_data['totals.newVisits'].astype(int)\n",
    "all_data['totals.bounces'] = all_data['totals.bounces'].astype(int)\n",
    "\n",
    "# fillna boolean feature\n",
    "all_data['trafficSource.isTrueDirect'].fillna(False, inplace=True)"
   ]
  },
  {
   "cell_type": "code",
   "execution_count": 33,
   "metadata": {},
   "outputs": [
    {
     "name": "stdout",
     "output_type": "stream",
     "text": [
      "drop columns: ['socialEngagementType', 'device.browserSize', 'device.browserVersion', 'device.flashVersion', 'device.language', 'device.mobileDeviceBranding', 'device.mobileDeviceInfo', 'device.mobileDeviceMarketingName', 'device.mobileDeviceModel', 'device.mobileInputSelector', 'device.operatingSystemVersion', 'device.screenColors', 'device.screenResolution', 'geoNetwork.cityId', 'geoNetwork.latitude', 'geoNetwork.longitude', 'geoNetwork.networkLocation', 'totals.visits', 'trafficSource.adwordsClickInfo.criteriaParameters', 'trafficSource.adwordsClickInfo.isVideoAd', 'trafficSource.campaignCode']\n"
     ]
    }
   ],
   "source": [
    "constant_column = [col for col in all_data.columns if all_data[col].nunique() == 1]\n",
    "#for c in constant_column:\n",
    "#    print(c + ':', train[c].unique())\n",
    "\n",
    "print('drop columns:', constant_column)\n",
    "all_data.drop(constant_column, axis=1, inplace=True)"
   ]
  },
  {
   "cell_type": "code",
   "execution_count": 34,
   "metadata": {},
   "outputs": [],
   "source": [
    "format_str = '%Y%m%d'\n",
    "all_data['formated_date'] = all_data['date'].apply(lambda x: datetime.strptime(str(x), format_str))\n",
    "all_data['_month'] = all_data['formated_date'].apply(lambda x:x.month)\n",
    "all_data['_quarterMonth'] = all_data['formated_date'].apply(lambda x:x.day//8)\n",
    "all_data['_day'] = all_data['formated_date'].apply(lambda x:x.day)\n",
    "all_data['_weekday'] = all_data['formated_date'].apply(lambda x:x.weekday())\n",
    "\n",
    "all_data.drop(['date','formated_date'], axis=1, inplace=True)\n"
   ]
  },
  {
   "cell_type": "code",
   "execution_count": 35,
   "metadata": {},
   "outputs": [],
   "source": [
    "def plotCategoryRateBar(a, b, colName, topN=np.nan):\n",
    "    if topN == topN: # isNotNan\n",
    "        vals = b[colName].value_counts()[:topN]\n",
    "        subA = a.loc[a[colName].isin(vals.index.values), colName]\n",
    "        df = pd.DataFrame({'All':subA.value_counts() / len(a), 'Revenue':vals / len(b)})\n",
    "    else:\n",
    "        df = pd.DataFrame({'All':a[colName].value_counts() / len(a), 'Revenue':b[colName].value_counts() / len(b)})\n",
    "    df.plot.barh()\n"
   ]
  },
  {
   "cell_type": "code",
   "execution_count": 36,
   "metadata": {},
   "outputs": [],
   "source": [
    "all_data['_visitStartHour'] = all_data['visitStartTime'].apply(\n",
    "    lambda x: str(datetime.fromtimestamp(x).hour))"
   ]
  },
  {
   "cell_type": "code",
   "execution_count": 37,
   "metadata": {},
   "outputs": [
    {
     "name": "stdout",
     "output_type": "stream",
     "text": [
      "train all sessionId: 903653\n",
      "train unique sessionId: 902755\n"
     ]
    }
   ],
   "source": [
    "print('train all sessionId:', len(train['sessionId']))\n",
    "print('train unique sessionId:', train['sessionId'].nunique())"
   ]
  },
  {
   "cell_type": "code",
   "execution_count": 38,
   "metadata": {},
   "outputs": [
    {
     "name": "stdout",
     "output_type": "stream",
     "text": [
      "1     864064\n",
      "2     237499\n",
      "3     134435\n",
      "4      80875\n",
      "5      63687\n",
      "6      46598\n",
      "7      38137\n",
      "8      29717\n",
      "9      24999\n",
      "10     20306\n",
      "Name: totals.hits, dtype: int64\n"
     ]
    }
   ],
   "source": [
    "print(all_data['totals.hits'].value_counts()[:10])\n",
    "\n",
    "all_data['totals.hits'] = all_data['totals.hits'].astype(int)"
   ]
  },
  {
   "cell_type": "code",
   "execution_count": 39,
   "metadata": {},
   "outputs": [
    {
     "name": "stdout",
     "output_type": "stream",
     "text": [
      "1     876567\n",
      "2     249794\n",
      "3     142896\n",
      "4      86666\n",
      "5      64712\n",
      "6      47721\n",
      "7      37751\n",
      "8      29586\n",
      "9      24153\n",
      "10     19228\n",
      "Name: totals.pageviews, dtype: int64\n"
     ]
    }
   ],
   "source": [
    "print(all_data['totals.pageviews'].value_counts()[:10])\n",
    "\n",
    "all_data['totals.pageviews'] = all_data['totals.pageviews'].astype(int)\n"
   ]
  },
  {
   "cell_type": "code",
   "execution_count": 41,
   "metadata": {},
   "outputs": [],
   "source": [
    "train_rev = train[~train['totals.transactionRevenue'].isnull()].copy()\n"
   ]
  },
  {
   "cell_type": "code",
   "execution_count": 43,
   "metadata": {},
   "outputs": [
    {
     "name": "stdout",
     "output_type": "stream",
     "text": [
      "unique trafficSource.adContent count: 44\n"
     ]
    },
    {
     "data": {
      "image/png": "[encoded data removed]",
      "text/plain": [
       "<Figure size 432x288 with 1 Axes>"
      ]
     },
     "metadata": {},
     "output_type": "display_data"
    }
   ],
   "source": [
    "\n",
    "\n",
    "all_data['_adContentGMC'] = (all_data['trafficSource.adContent'] == 'Google Merchandise Collection').astype(np.uint8)"
   ]
  },
  {
   "cell_type": "code",
   "execution_count": 44,
   "metadata": {},
   "outputs": [
    {
     "name": "stdout",
     "output_type": "stream",
     "text": [
      "unique trafficSource.campaign count: 10\n"
     ]
    },
    {
     "data": {
      "image/png": "[encoded data removed]",
      "text/plain": [
       "<Figure size 432x288 with 1 Axes>"
      ]
     },
     "metadata": {},
     "output_type": "display_data"
    }
   ],
   "source": [
    "print('unique trafficSource.campaign count:', train['trafficSource.campaign'].nunique())\n",
    "plotCategoryRateBar(all_data, train_rev, 'trafficSource.campaign', 10)\n",
    "\n",
    "all_data['_withCampaign'] = (all_data['trafficSource.campaign'] != '(not set)').astype(np.uint8)"
   ]
  },
  {
   "cell_type": "code",
   "execution_count": 45,
   "metadata": {},
   "outputs": [
    {
     "name": "stdout",
     "output_type": "stream",
     "text": [
      "unique trafficSource.referralPath count: 1475\n"
     ]
    },
    {
     "data": {
      "image/png": "[encoded data removed]",
      "text/plain": [
       "<Figure size 432x288 with 1 Axes>"
      ]
     },
     "metadata": {},
     "output_type": "display_data"
    }
   ],
   "source": [
    "print('unique trafficSource.referralPath count:', train['trafficSource.referralPath'].nunique())\n",
    "plotCategoryRateBar(all_data, train_rev, 'trafficSource.referralPath', 10)\n",
    "\n",
    "all_data['_referralRoot'] = (all_data['trafficSource.referralPath'] == '/').astype(np.uint8)\n"
   ]
  },
  {
   "cell_type": "code",
   "execution_count": 46,
   "metadata": {},
   "outputs": [
    {
     "name": "stdout",
     "output_type": "stream",
     "text": [
      "unique trafficSource.source count: 380\n"
     ]
    },
    {
     "data": {
      "image/png": "[encoded data removed]",
      "text/plain": [
       "<Figure size 432x288 with 1 Axes>"
      ]
     },
     "metadata": {},
     "output_type": "display_data"
    }
   ],
   "source": [
    "print('unique trafficSource.source count:', train['trafficSource.source'].nunique())\n",
    "plotCategoryRateBar(all_data, train_rev, 'trafficSource.source', 10)\n",
    "\n",
    "all_data['_sourceGpmall'] = (all_data['trafficSource.source'] == 'mall.googleplex.com').astype(np.uint8)"
   ]
  },
  {
   "cell_type": "code",
   "execution_count": 47,
   "metadata": {},
   "outputs": [],
   "source": [
    "all_data['_meanHitsPerDay'] = all_data.groupby(['_day'])['totals.hits'].transform('mean')\n",
    "all_data['_meanHitsPerWeekday'] = all_data.groupby(['_weekday'])['totals.hits'].transform('mean')\n",
    "all_data['_meanHitsPerMonth'] = all_data.groupby(['_month'])['totals.hits'].transform('mean')\n",
    "all_data['_sumHitsPerDay'] = all_data.groupby(['_day'])['totals.hits'].transform('sum')\n",
    "all_data['_sumHitsPerWeekday'] = all_data.groupby(['_weekday'])['totals.hits'].transform('sum')\n",
    "all_data['_sumHitsPerMonth'] = all_data.groupby(['_month'])['totals.hits'].transform('sum')\n",
    "\n",
    "for feature in ['totals.hits', 'totals.pageviews']:\n",
    "    info = all_data.groupby('fullVisitorId')[feature].mean()\n",
    "    all_data['_usermean_' + feature] = all_data.fullVisitorId.map(info)\n",
    "    \n",
    "for feature in [\"visitNumber\"]:\n",
    "    info = all_data.groupby('fullVisitorId')[feature].max()\n",
    "    all_data['_usermax_' + feature] = all_data.fullVisitorId.map(info)"
   ]
  },
  {
   "cell_type": "code",
   "execution_count": 48,
   "metadata": {},
   "outputs": [
    {
     "name": "stdout",
     "output_type": "stream",
     "text": [
      "totals.transactionRevenue                        804684\n",
      "trafficSource.keyword                            893961\n",
      "trafficSource.referralPath                      1142073\n",
      "trafficSource.adwordsClickInfo.gclId            1632914\n",
      "trafficSource.adwordsClickInfo.adNetworkType    1633063\n",
      "trafficSource.adwordsClickInfo.slot             1633063\n",
      "trafficSource.adwordsClickInfo.page             1633063\n",
      "trafficSource.adContent                         1643600\n",
      "dtype: int64\n"
     ]
    }
   ],
   "source": [
    "null_cnt = all_data.isnull().sum().sort_values()\n",
    "print(null_cnt[null_cnt > 0])"
   ]
  },
  {
   "cell_type": "code",
   "execution_count": null,
   "metadata": {},
   "outputs": [],
   "source": []
  },
  {
   "cell_type": "code",
   "execution_count": 49,
   "metadata": {},
   "outputs": [],
   "source": [
    "all_data['_visitStartHour'] = all_data['visitStartTime'].apply(\n",
    "    lambda x: str(datetime.fromtimestamp(x).hour))"
   ]
  },
  {
   "cell_type": "code",
   "execution_count": 50,
   "metadata": {},
   "outputs": [],
   "source": [
    "c = ['fullVisitorId',\n",
    "     'visitNumber',\n",
    "     'channelGrouping',\n",
    "     'device.deviceCategory',\n",
    "     'device.operatingSystem',\n",
    "     'geoNetwork.continent',\n",
    "     'geoNetwork.subContinent',\n",
    "     'totals.transactionRevenue',\n",
    "     'totals.newVisits',\n",
    "     'totals.hits',\n",
    "     'totals.pageviews',\n",
    "     'trafficSource.medium',\n",
    "     'trafficSource.isTrueDirect',\n",
    "     '_month',\n",
    "     '_quarterMonth',\n",
    "     '_weekday',\n",
    "     '_visitStartHour',\n",
    "     '_meanHitsPerDay','_meanHitsPerWeekday','_meanHitsPerMonth',\n",
    "     '_sumHitsPerDay','_sumHitsPerWeekday','_sumHitsPerMonth',\n",
    "     '_usermean_totals.hits','_usermean_totals.pageviews','_usermax_visitNumber',\n",
    "     #'_buyCount',\n",
    "     #'_buyRate'\n",
    "     '_adContentGMC',\n",
    "     '_withCampaign',\n",
    "     '_referralRoot',\n",
    "     '_sourceGpmall']\n",
    "all_data = all_data[c]\n",
    "\n",
    "for i, t in all_data.loc[:, all_data.columns != 'fullVisitorId'].dtypes.iteritems():\n",
    "    if t == object:\n",
    "        all_data = pd.concat([all_data, pd.get_dummies(all_data[i].astype(str), prefix=i)], axis=1)\n",
    "        all_data.drop(i, axis=1, inplace=True)"
   ]
  },
  {
   "cell_type": "code",
   "execution_count": 51,
   "metadata": {},
   "outputs": [],
   "source": [
    "train = all_data[all_data['totals.transactionRevenue'].notnull()]\n",
    "test = all_data[all_data['totals.transactionRevenue'].isnull()].drop(['totals.transactionRevenue'], axis=1)"
   ]
  },
  {
   "cell_type": "code",
   "execution_count": 52,
   "metadata": {},
   "outputs": [
    {
     "name": "stdout",
     "output_type": "stream",
     "text": [
      "(903653, 116) (804684, 116)\n"
     ]
    }
   ],
   "source": [
    "train_id = train['fullVisitorId']\n",
    "test_id = test['fullVisitorId']\n",
    "\n",
    "Y_train_reg = train.pop('totals.transactionRevenue')\n",
    "Y_train_cls = (Y_train_reg.fillna(0) > 0).astype(np.uint8)\n",
    "X_train = train.drop(['fullVisitorId'], axis=1)\n",
    "X_test  = test.drop(['fullVisitorId'], axis=1)\n",
    "\n",
    "print(X_train.shape, X_test.shape)"
   ]
  },
  {
   "cell_type": "code",
   "execution_count": 53,
   "metadata": {},
   "outputs": [
    {
     "name": "stdout",
     "output_type": "stream",
     "text": [
      "          name       size\n",
      "0      X_train  213262132\n",
      "1       X_test  189905448\n",
      "2         info  152975875\n",
      "3     train_id   75797496\n",
      "4      test_id   67496214\n",
      "5  Y_train_reg   14458472\n",
      "6  Y_train_cls    8132901\n",
      "7     null_cnt      10443\n",
      "8            _       1521\n",
      "9          _27       1521\n"
     ]
    }
   ],
   "source": [
    "import sys\n",
    "import gc\n",
    "\n",
    "del all_data, train, test, train_rev\n",
    "gc.collect()\n",
    "\n",
    "print(pd.DataFrame([[val for val in dir()], [sys.getsizeof(eval(val)) for val in dir()]],\n",
    "                   index=['name','size']).T.sort_values('size', ascending=False).reset_index(drop=True)[:10])"
   ]
  },
  {
   "cell_type": "code",
   "execution_count": 54,
   "metadata": {},
   "outputs": [],
   "source": [
    "from sklearn import ensemble, metrics\n"
   ]
  },
  {
   "cell_type": "code",
   "execution_count": 55,
   "metadata": {},
   "outputs": [
    {
     "name": "stdout",
     "output_type": "stream",
     "text": [
      "      Iter       Train Loss   Remaining Time \n",
      "         1           0.0120           19.52m\n",
      "         2           0.0115           19.50m\n",
      "         3           0.0112           18.53m\n",
      "         4           0.0108           18.01m\n",
      "         5           0.0106           17.64m\n",
      "         6           0.0103           17.27m\n",
      "         7           0.0102           17.57m\n",
      "         8           0.0100           17.24m\n",
      "         9           0.0099           17.25m\n",
      "        10           0.0098           17.15m\n",
      "        20           0.0092           15.99m\n",
      "        30           0.0090           15.59m\n",
      "        40           0.0089           15.55m\n",
      "        50           0.0089           15.56m\n",
      "        60           0.0088           15.13m\n",
      "        70           0.0087           14.58m\n",
      "        80           0.0087           14.15m\n",
      "        90           0.0086           13.79m\n",
      "       100           0.0086           13.36m\n",
      "       200           0.0084            9.78m\n",
      "       300           0.0083            6.41m\n",
      "       400           0.0082            3.23m\n",
      "       500           0.0081            0.00s\n",
      "804684 23008\n"
     ]
    }
   ],
   "source": [
    "reg = ensemble.GradientBoostingRegressor(n_estimators=500, learning_rate=0.1, max_depth=3, verbose=1, random_state=42)\n",
    "reg.fit(X_train, Y_train_cls)\n",
    "pred_reg = reg.predict(X_test)\n",
    "\n",
    "print(len(pred_reg), len(pred_reg[pred_reg > 0.1]))"
   ]
  },
  {
   "cell_type": "code",
   "execution_count": 56,
   "metadata": {},
   "outputs": [
    {
     "name": "stdout",
     "output_type": "stream",
     "text": [
      "      Iter       Train Loss   Remaining Time \n",
      "         1           1.2795           34.57s\n",
      "         2           1.2112           32.69s\n",
      "         3           1.1691           27.92s\n",
      "         4           1.1436           27.86s\n",
      "         5           1.1257           27.50s\n",
      "         6           1.1120           28.02s\n",
      "         7           1.1009           28.28s\n",
      "         8           1.0944           28.60s\n",
      "         9           1.0894           27.81s\n",
      "        10           1.0821           27.11s\n",
      "        20           1.0359           23.25s\n",
      "        30           1.0087           20.57s\n",
      "        40           0.9763           20.41s\n",
      "        50           0.9554           22.83s\n",
      "        60           0.9379           23.53s\n",
      "        70           0.9182           22.35s\n",
      "        80           0.8966           22.66s\n",
      "        90           0.8793           22.58s\n",
      "       100           0.8690           21.56s\n",
      "       200           0.7471           17.69s\n",
      "       300           0.6619           15.47s\n",
      "       400           0.5964           12.84s\n",
      "       500           0.5387           10.50s\n",
      "       600           0.4954            8.29s\n",
      "       700           0.4523            6.24s\n",
      "       800           0.4157            4.15s\n",
      "       900           0.3866            2.06s\n",
      "      1000           0.3605            0.00s\n"
     ]
    }
   ],
   "source": [
    "reg = ensemble.GradientBoostingRegressor(n_estimators=1000, learning_rate=0.5, max_depth=3, verbose=1, random_state=42)\n",
    "reg.fit(X_train[Y_train_reg > 0], Y_train_reg[Y_train_reg > 0])\n",
    "\n",
    "pred = np.zeros(len(pred_reg))\n",
    "for i in np.arange(len(pred_reg)):\n",
    "    pred[i] = reg.predict([X_test.iloc[i]])[0] * pred_reg[i]"
   ]
  },
  {
   "cell_type": "code",
   "execution_count": 57,
   "metadata": {},
   "outputs": [
    {
     "data": {
      "text/html": [
       "<div>\n",
       "<style scoped>\n",
       "    .dataframe tbody tr th:only-of-type {\n",
       "        vertical-align: middle;\n",
       "    }\n",
       "\n",
       "    .dataframe tbody tr th {\n",
       "        vertical-align: top;\n",
       "    }\n",
       "\n",
       "    .dataframe thead th {\n",
       "        text-align: right;\n",
       "    }\n",
       "</style>\n",
       "<table border=\"1\" class=\"dataframe\">\n",
       "  <thead>\n",
       "    <tr style=\"text-align: right;\">\n",
       "      <th></th>\n",
       "      <th>fullVisitorId</th>\n",
       "      <th>PredictedLogRevenue</th>\n",
       "    </tr>\n",
       "  </thead>\n",
       "  <tbody>\n",
       "    <tr>\n",
       "      <th>0</th>\n",
       "      <td>0000000259678714014</td>\n",
       "      <td>0.642194</td>\n",
       "    </tr>\n",
       "    <tr>\n",
       "      <th>1</th>\n",
       "      <td>0000049363351866189</td>\n",
       "      <td>0.016435</td>\n",
       "    </tr>\n",
       "    <tr>\n",
       "      <th>3</th>\n",
       "      <td>0000059488412965267</td>\n",
       "      <td>0.028445</td>\n",
       "    </tr>\n",
       "    <tr>\n",
       "      <th>4</th>\n",
       "      <td>0000085840370633780</td>\n",
       "      <td>0.001927</td>\n",
       "    </tr>\n",
       "    <tr>\n",
       "      <th>6</th>\n",
       "      <td>0000117255350596610</td>\n",
       "      <td>5.231102</td>\n",
       "    </tr>\n",
       "    <tr>\n",
       "      <th>10</th>\n",
       "      <td>0000166374699289385</td>\n",
       "      <td>0.004311</td>\n",
       "    </tr>\n",
       "    <tr>\n",
       "      <th>12</th>\n",
       "      <td>000018122977590134</td>\n",
       "      <td>4.240387</td>\n",
       "    </tr>\n",
       "    <tr>\n",
       "      <th>13</th>\n",
       "      <td>000020731284570628</td>\n",
       "      <td>0.002385</td>\n",
       "    </tr>\n",
       "    <tr>\n",
       "      <th>15</th>\n",
       "      <td>0000271086753662651</td>\n",
       "      <td>0.001611</td>\n",
       "    </tr>\n",
       "    <tr>\n",
       "      <th>17</th>\n",
       "      <td>00003038793126460</td>\n",
       "      <td>0.005710</td>\n",
       "    </tr>\n",
       "    <tr>\n",
       "      <th>18</th>\n",
       "      <td>0000313524203455157</td>\n",
       "      <td>0.003198</td>\n",
       "    </tr>\n",
       "    <tr>\n",
       "      <th>22</th>\n",
       "      <td>0000359974620542953</td>\n",
       "      <td>0.017978</td>\n",
       "    </tr>\n",
       "    <tr>\n",
       "      <th>23</th>\n",
       "      <td>0000384434116640351</td>\n",
       "      <td>3.558351</td>\n",
       "    </tr>\n",
       "    <tr>\n",
       "      <th>26</th>\n",
       "      <td>0000414003317636552</td>\n",
       "      <td>2.864439</td>\n",
       "    </tr>\n",
       "    <tr>\n",
       "      <th>28</th>\n",
       "      <td>0000436683523507380</td>\n",
       "      <td>0.026405</td>\n",
       "    </tr>\n",
       "    <tr>\n",
       "      <th>29</th>\n",
       "      <td>0000443488189725694</td>\n",
       "      <td>0.001109</td>\n",
       "    </tr>\n",
       "    <tr>\n",
       "      <th>30</th>\n",
       "      <td>0000446984872719825</td>\n",
       "      <td>0.398296</td>\n",
       "    </tr>\n",
       "    <tr>\n",
       "      <th>31</th>\n",
       "      <td>0000461840188517261</td>\n",
       "      <td>0.000803</td>\n",
       "    </tr>\n",
       "    <tr>\n",
       "      <th>32</th>\n",
       "      <td>0000466288435490222</td>\n",
       "      <td>0.008996</td>\n",
       "    </tr>\n",
       "    <tr>\n",
       "      <th>34</th>\n",
       "      <td>0000468700899905680</td>\n",
       "      <td>0.002311</td>\n",
       "    </tr>\n",
       "    <tr>\n",
       "      <th>37</th>\n",
       "      <td>0000593255797039768</td>\n",
       "      <td>0.306223</td>\n",
       "    </tr>\n",
       "    <tr>\n",
       "      <th>40</th>\n",
       "      <td>0000677695778949032</td>\n",
       "      <td>1.584547</td>\n",
       "    </tr>\n",
       "    <tr>\n",
       "      <th>41</th>\n",
       "      <td>0000680182192278956</td>\n",
       "      <td>0.011796</td>\n",
       "    </tr>\n",
       "    <tr>\n",
       "      <th>42</th>\n",
       "      <td>0000708243998753318</td>\n",
       "      <td>0.028587</td>\n",
       "    </tr>\n",
       "    <tr>\n",
       "      <th>45</th>\n",
       "      <td>0000778000461554355</td>\n",
       "      <td>0.007786</td>\n",
       "    </tr>\n",
       "    <tr>\n",
       "      <th>48</th>\n",
       "      <td>0000844628216443785</td>\n",
       "      <td>0.369353</td>\n",
       "    </tr>\n",
       "    <tr>\n",
       "      <th>52</th>\n",
       "      <td>000090799202817835</td>\n",
       "      <td>3.423913</td>\n",
       "    </tr>\n",
       "    <tr>\n",
       "      <th>54</th>\n",
       "      <td>000094154452308463</td>\n",
       "      <td>0.000532</td>\n",
       "    </tr>\n",
       "    <tr>\n",
       "      <th>55</th>\n",
       "      <td>0000952261940679292</td>\n",
       "      <td>0.003748</td>\n",
       "    </tr>\n",
       "    <tr>\n",
       "      <th>56</th>\n",
       "      <td>0000953997374495158</td>\n",
       "      <td>0.154382</td>\n",
       "    </tr>\n",
       "    <tr>\n",
       "      <th>...</th>\n",
       "      <td>...</td>\n",
       "      <td>...</td>\n",
       "    </tr>\n",
       "    <tr>\n",
       "      <th>617186</th>\n",
       "      <td>9999098287511113585</td>\n",
       "      <td>2.518300</td>\n",
       "    </tr>\n",
       "    <tr>\n",
       "      <th>617192</th>\n",
       "      <td>9999138145553675515</td>\n",
       "      <td>0.001720</td>\n",
       "    </tr>\n",
       "    <tr>\n",
       "      <th>617193</th>\n",
       "      <td>999914072337251353</td>\n",
       "      <td>0.007793</td>\n",
       "    </tr>\n",
       "    <tr>\n",
       "      <th>617194</th>\n",
       "      <td>999917398463465750</td>\n",
       "      <td>0.034939</td>\n",
       "    </tr>\n",
       "    <tr>\n",
       "      <th>617195</th>\n",
       "      <td>9999180222639780495</td>\n",
       "      <td>0.019517</td>\n",
       "    </tr>\n",
       "    <tr>\n",
       "      <th>617199</th>\n",
       "      <td>9999217226019147315</td>\n",
       "      <td>0.010859</td>\n",
       "    </tr>\n",
       "    <tr>\n",
       "      <th>617200</th>\n",
       "      <td>9999224858025346837</td>\n",
       "      <td>1.258804</td>\n",
       "    </tr>\n",
       "    <tr>\n",
       "      <th>617202</th>\n",
       "      <td>9999250019952621738</td>\n",
       "      <td>0.007877</td>\n",
       "    </tr>\n",
       "    <tr>\n",
       "      <th>617203</th>\n",
       "      <td>9999276834415836802</td>\n",
       "      <td>0.000029</td>\n",
       "    </tr>\n",
       "    <tr>\n",
       "      <th>617206</th>\n",
       "      <td>9999393801373383609</td>\n",
       "      <td>0.016075</td>\n",
       "    </tr>\n",
       "    <tr>\n",
       "      <th>617208</th>\n",
       "      <td>9999425102935415824</td>\n",
       "      <td>0.016028</td>\n",
       "    </tr>\n",
       "    <tr>\n",
       "      <th>617209</th>\n",
       "      <td>9999425819616040348</td>\n",
       "      <td>0.002621</td>\n",
       "    </tr>\n",
       "    <tr>\n",
       "      <th>617210</th>\n",
       "      <td>999942696836758605</td>\n",
       "      <td>0.013711</td>\n",
       "    </tr>\n",
       "    <tr>\n",
       "      <th>617211</th>\n",
       "      <td>9999447218567466927</td>\n",
       "      <td>0.008282</td>\n",
       "    </tr>\n",
       "    <tr>\n",
       "      <th>617212</th>\n",
       "      <td>9999496940471624606</td>\n",
       "      <td>0.268038</td>\n",
       "    </tr>\n",
       "    <tr>\n",
       "      <th>617213</th>\n",
       "      <td>9999518756481096457</td>\n",
       "      <td>0.260856</td>\n",
       "    </tr>\n",
       "    <tr>\n",
       "      <th>617215</th>\n",
       "      <td>9999562285379264463</td>\n",
       "      <td>0.009632</td>\n",
       "    </tr>\n",
       "    <tr>\n",
       "      <th>617217</th>\n",
       "      <td>9999627287761032935</td>\n",
       "      <td>0.001174</td>\n",
       "    </tr>\n",
       "    <tr>\n",
       "      <th>617218</th>\n",
       "      <td>9999629963061245228</td>\n",
       "      <td>0.010481</td>\n",
       "    </tr>\n",
       "    <tr>\n",
       "      <th>617222</th>\n",
       "      <td>9999687906312811598</td>\n",
       "      <td>0.010726</td>\n",
       "    </tr>\n",
       "    <tr>\n",
       "      <th>617226</th>\n",
       "      <td>999977536649351076</td>\n",
       "      <td>0.150271</td>\n",
       "    </tr>\n",
       "    <tr>\n",
       "      <th>617227</th>\n",
       "      <td>9999786007255502100</td>\n",
       "      <td>0.005240</td>\n",
       "    </tr>\n",
       "    <tr>\n",
       "      <th>617231</th>\n",
       "      <td>9999819762744314978</td>\n",
       "      <td>0.031063</td>\n",
       "    </tr>\n",
       "    <tr>\n",
       "      <th>617232</th>\n",
       "      <td>9999824326944242344</td>\n",
       "      <td>2.520702</td>\n",
       "    </tr>\n",
       "    <tr>\n",
       "      <th>617234</th>\n",
       "      <td>9999841005270636052</td>\n",
       "      <td>0.008906</td>\n",
       "    </tr>\n",
       "    <tr>\n",
       "      <th>617235</th>\n",
       "      <td>9999860794386137754</td>\n",
       "      <td>0.071211</td>\n",
       "    </tr>\n",
       "    <tr>\n",
       "      <th>617236</th>\n",
       "      <td>9999882818693474736</td>\n",
       "      <td>9.297551</td>\n",
       "    </tr>\n",
       "    <tr>\n",
       "      <th>617237</th>\n",
       "      <td>9999905960465191827</td>\n",
       "      <td>0.001653</td>\n",
       "    </tr>\n",
       "    <tr>\n",
       "      <th>617239</th>\n",
       "      <td>9999969142283897422</td>\n",
       "      <td>0.001742</td>\n",
       "    </tr>\n",
       "    <tr>\n",
       "      <th>617240</th>\n",
       "      <td>9999985820452794361</td>\n",
       "      <td>0.008950</td>\n",
       "    </tr>\n",
       "  </tbody>\n",
       "</table>\n",
       "<p>311565 rows × 2 columns</p>\n",
       "</div>"
      ],
      "text/plain": [
       "              fullVisitorId  PredictedLogRevenue\n",
       "0       0000000259678714014             0.642194\n",
       "1       0000049363351866189             0.016435\n",
       "3       0000059488412965267             0.028445\n",
       "4       0000085840370633780             0.001927\n",
       "6       0000117255350596610             5.231102\n",
       "10      0000166374699289385             0.004311\n",
       "12       000018122977590134             4.240387\n",
       "13       000020731284570628             0.002385\n",
       "15      0000271086753662651             0.001611\n",
       "17        00003038793126460             0.005710\n",
       "18      0000313524203455157             0.003198\n",
       "22      0000359974620542953             0.017978\n",
       "23      0000384434116640351             3.558351\n",
       "26      0000414003317636552             2.864439\n",
       "28      0000436683523507380             0.026405\n",
       "29      0000443488189725694             0.001109\n",
       "30      0000446984872719825             0.398296\n",
       "31      0000461840188517261             0.000803\n",
       "32      0000466288435490222             0.008996\n",
       "34      0000468700899905680             0.002311\n",
       "37      0000593255797039768             0.306223\n",
       "40      0000677695778949032             1.584547\n",
       "41      0000680182192278956             0.011796\n",
       "42      0000708243998753318             0.028587\n",
       "45      0000778000461554355             0.007786\n",
       "48      0000844628216443785             0.369353\n",
       "52       000090799202817835             3.423913\n",
       "54       000094154452308463             0.000532\n",
       "55      0000952261940679292             0.003748\n",
       "56      0000953997374495158             0.154382\n",
       "...                     ...                  ...\n",
       "617186  9999098287511113585             2.518300\n",
       "617192  9999138145553675515             0.001720\n",
       "617193   999914072337251353             0.007793\n",
       "617194   999917398463465750             0.034939\n",
       "617195  9999180222639780495             0.019517\n",
       "617199  9999217226019147315             0.010859\n",
       "617200  9999224858025346837             1.258804\n",
       "617202  9999250019952621738             0.007877\n",
       "617203  9999276834415836802             0.000029\n",
       "617206  9999393801373383609             0.016075\n",
       "617208  9999425102935415824             0.016028\n",
       "617209  9999425819616040348             0.002621\n",
       "617210   999942696836758605             0.013711\n",
       "617211  9999447218567466927             0.008282\n",
       "617212  9999496940471624606             0.268038\n",
       "617213  9999518756481096457             0.260856\n",
       "617215  9999562285379264463             0.009632\n",
       "617217  9999627287761032935             0.001174\n",
       "617218  9999629963061245228             0.010481\n",
       "617222  9999687906312811598             0.010726\n",
       "617226   999977536649351076             0.150271\n",
       "617227  9999786007255502100             0.005240\n",
       "617231  9999819762744314978             0.031063\n",
       "617232  9999824326944242344             2.520702\n",
       "617234  9999841005270636052             0.008906\n",
       "617235  9999860794386137754             0.071211\n",
       "617236  9999882818693474736             9.297551\n",
       "617237  9999905960465191827             0.001653\n",
       "617239  9999969142283897422             0.001742\n",
       "617240  9999985820452794361             0.008950\n",
       "\n",
       "[311565 rows x 2 columns]"
      ]
     },
     "execution_count": 57,
     "metadata": {},
     "output_type": "execute_result"
    }
   ],
   "source": [
    "submission = pd.DataFrame({'fullVisitorId':test_id, 'PredictedLogRevenue':pred})\n",
    "submission[\"PredictedLogRevenue\"] = submission[\"PredictedLogRevenue\"].apply(lambda x : 0.0 if x < 0 else x)\n",
    "submission[\"PredictedLogRevenue\"] = submission[\"PredictedLogRevenue\"].fillna(0.0)\n",
    "submission_sum = submission[['fullVisitorId', 'PredictedLogRevenue']].groupby('fullVisitorId').sum().reset_index()\n",
    "submission_sum.to_csv(\"sample_submission.csv\", index=False)\n",
    "submission_sum[submission_sum['PredictedLogRevenue'] > 0.0]"
   ]
  },
  {
   "cell_type": "code",
   "execution_count": 58,
   "metadata": {},
   "outputs": [
    {
     "data": {
      "text/plain": [
       "count    617242.000000\n",
       "mean          0.200665\n",
       "std           1.308697\n",
       "min           0.000000\n",
       "25%           0.000000\n",
       "50%           0.000085\n",
       "75%           0.006639\n",
       "max         147.471754\n",
       "Name: PredictedLogRevenue, dtype: float64"
      ]
     },
     "execution_count": 58,
     "metadata": {},
     "output_type": "execute_result"
    }
   ],
   "source": [
    "submission_sum['PredictedLogRevenue'].describe()\n"
   ]
  },
  {
   "cell_type": "code",
   "execution_count": null,
   "metadata": {},
   "outputs": [],
   "source": []
  }
 ],
 "metadata": {
  "kernelspec": {
   "display_name": "Python 3",
   "language": "python",
   "name": "python3"
  },
  "language_info": {
   "codemirror_mode": {
    "name": "ipython",
    "version": 3
   },
   "file_extension": ".py",
   "mimetype": "text/x-python",
   "name": "python",
   "nbconvert_exporter": "python",
   "pygments_lexer": "ipython3",
   "version": "3.6.5"
  }
 },
 "nbformat": 4,
 "nbformat_minor": 2
}
